{
 "cells": [
  {
   "cell_type": "code",
   "execution_count": 3,
   "id": "fatty-sweet",
   "metadata": {},
   "outputs": [],
   "source": [
    "import java.util.Scanner;\n",
    "Scanner scanner = new Scanner(System.in);"
   ]
  },
  {
   "cell_type": "markdown",
   "id": "printable-trade",
   "metadata": {},
   "source": [
    "# MayorOIgual\n",
    "\n",
    "Implementa en la siguiente celda un programa que:\n",
    "- Pida al usuario un número entero (a) \n",
    "- Pida al usuario otro número entero (b) \n",
    "- Crea una variable que almacena si a es mayor o igual que b \n",
    "- Muestra en pantalla la variable anterior "
   ]
  },
  {
   "cell_type": "code",
   "execution_count": 2,
   "id": "tender-dress",
   "metadata": {},
   "outputs": [
    {
     "name": "stdout",
     "output_type": "stream",
     "text": [
      "3\n",
      "2\n",
      "3Es mayor que2\n",
      "3Es mayor que2\n"
     ]
    }
   ],
   "source": [
    "import java.util.Scanner;\n",
    "Scanner scanner = new Scanner(System.in);\n",
    "\n",
    "int a = scanner.nextInt();\n",
    "scanner.nextLine();\n",
    "int b = scanner.nextInt();\n",
    "scanner.nextLine();\n",
    "if (a > b){\n",
    "    System.out.println(a + \" Es mayor que \" + b);\n",
    "}\n",
    "else if (b > a){\n",
    "    System.out.println(b +\" Es mayor que \" + a);\n",
    "}System.out.println(a + \"Es mayor que\" + b)"
   ]
  },
  {
   "cell_type": "markdown",
   "id": "satisfactory-consensus",
   "metadata": {},
   "source": [
    "# Or\n",
    "\n",
    "Implementa en la siguiente celda un programa que:\n",
    "- Pida al usuario una variable a de tipo booleana (scanner.nextBoolean()) \n",
    "- Pida al usuario otra variable b de tipo booleana \n",
    "- Imprime en pantalla si es true a o b "
   ]
  },
  {
   "cell_type": "code",
   "execution_count": 5,
   "id": "polyphonic-permit",
   "metadata": {},
   "outputs": [
    {
     "name": "stdout",
     "output_type": "stream",
     "text": [
      "false\n",
      "false\n",
      "false\n"
     ]
    }
   ],
   "source": [
    "boolean a = scanner.nextBoolean();\n",
    "scanner.nextLine();\n",
    "boolean b = scanner.nextBoolean();\n",
    "scanner.nextLine();\n",
    "System.out.println(a || b);"
   ]
  },
  {
   "cell_type": "markdown",
   "id": "civilian-walter",
   "metadata": {},
   "source": [
    "# And\n",
    "\n",
    "Implementa en la siguiente celda un programa que:\n",
    "- Pida al usuario una variable a de tipo booleana (scanner.nextBoolean()) \n",
    "- Pida al usuario otra variable b de tipo booleana \n",
    "- Imprime en pantalla si es true a y b  "
   ]
  },
  {
   "cell_type": "code",
   "execution_count": 7,
   "id": "banned-intention",
   "metadata": {},
   "outputs": [
    {
     "name": "stdout",
     "output_type": "stream",
     "text": [
      "false \n",
      "false\n",
      "false\n"
     ]
    }
   ],
   "source": [
    "boolean a = scanner.nextBoolean();\n",
    "scanner.nextLine();\n",
    "boolean b = scanner.nextBoolean();\n",
    "scanner.nextLine();\n",
    "System.out.println(a && b);"
   ]
  },
  {
   "cell_type": "markdown",
   "id": "dominican-aquarium",
   "metadata": {},
   "source": [
    "# HolaMundoScanner \n",
    "\n",
    "Implementa en la siguiente celda un programa que:\n",
    "\n",
    "- Pida un texto de una línea y lo guarde en una variable “saludo” \n",
    "- Pida un texto de una línea y lo guarde en una variable “despedida” \n",
    "- Muestra en pantalla el saludo y la despedida en una misma línea \n",
    "  - Saludo= “Hola” \n",
    "  - Despedida = “Adios” \n",
    "  - Mensaje en pantalla: Hola. Adios "
   ]
  },
  {
   "cell_type": "code",
   "execution_count": 10,
   "id": "loaded-assist",
   "metadata": {},
   "outputs": [
    {
     "name": "stdout",
     "output_type": "stream",
     "text": [
      "hola\n",
      "adios\n",
      "Salude Despidase\n"
     ]
    }
   ],
   "source": [
    "String saludo = scanner.nextLine();\n",
    "String despedida = scanner.nextLine();\n",
    "System.out.println(saludo + \" \" + despedida);"
   ]
  }
 ],
 "metadata": {
  "kernelspec": {
   "display_name": "Java",
   "language": "java",
   "name": "java"
  },
  "language_info": {
   "codemirror_mode": "java",
   "file_extension": ".jshell",
   "mimetype": "text/x-java-source",
   "name": "Java",
   "pygments_lexer": "java",
   "version": "11.0.10+9-Ubuntu-0ubuntu1.18.04"
  }
 },
 "nbformat": 4,
 "nbformat_minor": 5
}
